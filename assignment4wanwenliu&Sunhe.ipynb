{
 "cells": [
  {
   "cell_type": "code",
   "execution_count": 1,
   "metadata": {},
   "outputs": [
    {
     "data": {
      "text/plain": [
       "array([91.95607737,  1.51124101, 35.81806915, 16.7697369 , 70.51854637,\n",
       "       86.76181452])"
      ]
     },
     "execution_count": 1,
     "metadata": {},
     "output_type": "execute_result"
    }
   ],
   "source": [
    "import numpy as np\n",
    "#create X and y randomly\n",
    "y= np.random.uniform(0,100,6)\n",
    "y"
   ]
  },
  {
   "cell_type": "code",
   "execution_count": 2,
   "metadata": {},
   "outputs": [
    {
     "data": {
      "text/plain": [
       "array([[57.11513683, 58.10198887, 85.21629453, 73.14228742, 51.83102778,\n",
       "        70.86194672],\n",
       "       [58.33458246, 75.6627765 , 88.039993  , 72.7732583 , 64.36802645,\n",
       "        48.98773688],\n",
       "       [85.23376156, 81.21813896, 84.39137076, 18.43080569, 99.05140136,\n",
       "         5.02718552],\n",
       "       [50.85677313,  7.72544052, 18.2755791 , 96.31172433, 40.91368942,\n",
       "        46.37178665],\n",
       "       [34.1643108 , 96.13128125, 15.11786897, 59.14814663,  7.13787875,\n",
       "        87.68900349],\n",
       "       [36.77072695,  7.07948098, 83.76354929, 16.22301834, 87.14510033,\n",
       "        42.62549492]])"
      ]
     },
     "execution_count": 2,
     "metadata": {},
     "output_type": "execute_result"
    }
   ],
   "source": [
    "a=np.random.uniform(0,100,36)\n",
    "X=a.reshape(6,6)\n",
    "X"
   ]
  },
  {
   "cell_type": "code",
   "execution_count": 3,
   "metadata": {},
   "outputs": [
    {
     "data": {
      "text/plain": [
       "array([1, 3, 2, 4, 0, 5])"
      ]
     },
     "execution_count": 3,
     "metadata": {},
     "output_type": "execute_result"
    }
   ],
   "source": [
    "selectcolumns=np.random.choice(6, 6,replace=False)\n",
    "selectcolumns"
   ]
  },
  {
   "cell_type": "code",
   "execution_count": 6,
   "metadata": {},
   "outputs": [],
   "source": [
    "from numpy import NaN\n",
    "import random\n",
    "#randomly set nan values\n",
    "for column in selectcolumns:\n",
    "    row=random.randint(0, 5)\n",
    "    X[row,column]=np.nan"
   ]
  },
  {
   "cell_type": "code",
   "execution_count": 7,
   "metadata": {},
   "outputs": [
    {
     "data": {
      "text/plain": [
       "array([[        nan,         nan, 85.21629453, 73.14228742, 51.83102778,\n",
       "        70.86194672],\n",
       "       [58.33458246, 75.6627765 , 88.039993  ,         nan, 64.36802645,\n",
       "        48.98773688],\n",
       "       [85.23376156, 81.21813896, 84.39137076,         nan, 99.05140136,\n",
       "         5.02718552],\n",
       "       [50.85677313,  7.72544052, 18.2755791 , 96.31172433, 40.91368942,\n",
       "        46.37178665],\n",
       "       [34.1643108 ,         nan,         nan, 59.14814663,         nan,\n",
       "        87.68900349],\n",
       "       [36.77072695,  7.07948098, 83.76354929, 16.22301834, 87.14510033,\n",
       "                nan]])"
      ]
     },
     "execution_count": 7,
     "metadata": {},
     "output_type": "execute_result"
    }
   ],
   "source": [
    "X"
   ]
  },
  {
   "cell_type": "code",
   "execution_count": 8,
   "metadata": {},
   "outputs": [
    {
     "name": "stdout",
     "output_type": "stream",
     "text": [
      "[53.07203098 42.92145924 71.93735734 61.20629418 68.66184907 51.78753185]\n",
      "[ 338.04262495 1265.50916819  722.03455169  850.64755928  467.36585751\n",
      "  775.28962116]\n",
      "[[  -62.1798176    521.6641359     85.21629453    73.14228742\n",
      "     51.83102778    70.86194672]\n",
      " [   58.33458246    75.6627765     88.039993    -282.84690303\n",
      "     64.36802645    48.98773688]\n",
      " [   85.23376156    81.21813896    84.39137076   852.73972034\n",
      "     99.05140136     5.02718552]\n",
      " [   50.85677313     7.72544052    18.2755791     96.31172433\n",
      "     40.91368942    46.37178665]\n",
      " [   34.1643108  -2079.19050903  1358.67862551    59.14814663\n",
      "     60.59492164    87.68900349]\n",
      " [   36.77072695     7.07948098    83.76354929    16.22301834\n",
      "     87.14510033   139.65041592]]\n"
     ]
    }
   ],
   "source": [
    "#SimpleImputerQuartile\n",
    "from sklearn.base import TransformerMixin\n",
    "class SimpleImputerQuartile(TransformerMixin):\n",
    "    def _init_(self):\n",
    "        pass\n",
    "\n",
    "    def fit(self, X, y=None):\n",
    "        self.sigma = np.nanvar(X, axis = 0)\n",
    "        self.mu = np.nanmean(X, axis=0)\n",
    "        return(self)\n",
    "    \n",
    "    def transform(self, X):\n",
    "        for i in range(X.shape[0]):\n",
    "            for j in range(X.shape[1]):\n",
    "                if(np.isnan(X[i,j])):\n",
    "                    X[i,j]= np.random.normal(loc=self.mu[j],scale=self.sigma[j],size=None)\n",
    "        return(X)\n",
    "\n",
    "quartile= SimpleImputerQuartile()\n",
    "quartile= quartile.fit(X,y)\n",
    "XX=quartile.transform(X)\n",
    "print(quartile.mu)\n",
    "print(quartile.sigma)\n",
    "print(XX)"
   ]
  },
  {
   "cell_type": "code",
   "execution_count": 9,
   "metadata": {},
   "outputs": [
    {
     "name": "stdout",
     "output_type": "stream",
     "text": [
      "[46.56338779 46.56338779 46.56338779 46.56338779 42.27588159 46.56338779]\n"
     ]
    }
   ],
   "source": [
    "#pipeline with knn\n",
    "from sklearn.pipeline import Pipeline\n",
    "from sklearn.neighbors import KNeighborsRegressor\n",
    "knn = KNeighborsRegressor()\n",
    "knnpipeline = Pipeline([('quartile', quartile),('knn', knn)]) \n",
    "pipeline = knnpipeline.fit(X,y)\n",
    "yknnpredict= knnpipeline.predict(X)\n",
    "print(yknnpredict)"
   ]
  },
  {
   "cell_type": "code",
   "execution_count": null,
   "metadata": {},
   "outputs": [],
   "source": []
  }
 ],
 "metadata": {
  "kernelspec": {
   "display_name": "Python 3",
   "language": "python",
   "name": "python3"
  },
  "language_info": {
   "codemirror_mode": {
    "name": "ipython",
    "version": 3
   },
   "file_extension": ".py",
   "mimetype": "text/x-python",
   "name": "python",
   "nbconvert_exporter": "python",
   "pygments_lexer": "ipython3",
   "version": "3.7.4"
  }
 },
 "nbformat": 4,
 "nbformat_minor": 2
}
